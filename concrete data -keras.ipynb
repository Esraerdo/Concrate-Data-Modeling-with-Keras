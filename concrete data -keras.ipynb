{
 "cells": [
  {
   "cell_type": "code",
   "execution_count": 1,
   "id": "a8bfd258",
   "metadata": {},
   "outputs": [],
   "source": [
    "import pandas as pd\n",
    "import numpy as np"
   ]
  },
  {
   "cell_type": "code",
   "execution_count": 2,
   "id": "e35f1411",
   "metadata": {},
   "outputs": [
    {
     "data": {
      "text/html": [
       "<div>\n",
       "<style scoped>\n",
       "    .dataframe tbody tr th:only-of-type {\n",
       "        vertical-align: middle;\n",
       "    }\n",
       "\n",
       "    .dataframe tbody tr th {\n",
       "        vertical-align: top;\n",
       "    }\n",
       "\n",
       "    .dataframe thead th {\n",
       "        text-align: right;\n",
       "    }\n",
       "</style>\n",
       "<table border=\"1\" class=\"dataframe\">\n",
       "  <thead>\n",
       "    <tr style=\"text-align: right;\">\n",
       "      <th></th>\n",
       "      <th>Cement</th>\n",
       "      <th>Blast Furnace Slag</th>\n",
       "      <th>Fly Ash</th>\n",
       "      <th>Water</th>\n",
       "      <th>Superplasticizer</th>\n",
       "      <th>Coarse Aggregate</th>\n",
       "      <th>Fine Aggregate</th>\n",
       "      <th>Age</th>\n",
       "      <th>Strength</th>\n",
       "    </tr>\n",
       "  </thead>\n",
       "  <tbody>\n",
       "    <tr>\n",
       "      <th>0</th>\n",
       "      <td>540.0</td>\n",
       "      <td>0.0</td>\n",
       "      <td>0.0</td>\n",
       "      <td>162.0</td>\n",
       "      <td>2.5</td>\n",
       "      <td>1040.0</td>\n",
       "      <td>676.0</td>\n",
       "      <td>28</td>\n",
       "      <td>79.99</td>\n",
       "    </tr>\n",
       "    <tr>\n",
       "      <th>1</th>\n",
       "      <td>540.0</td>\n",
       "      <td>0.0</td>\n",
       "      <td>0.0</td>\n",
       "      <td>162.0</td>\n",
       "      <td>2.5</td>\n",
       "      <td>1055.0</td>\n",
       "      <td>676.0</td>\n",
       "      <td>28</td>\n",
       "      <td>61.89</td>\n",
       "    </tr>\n",
       "    <tr>\n",
       "      <th>2</th>\n",
       "      <td>332.5</td>\n",
       "      <td>142.5</td>\n",
       "      <td>0.0</td>\n",
       "      <td>228.0</td>\n",
       "      <td>0.0</td>\n",
       "      <td>932.0</td>\n",
       "      <td>594.0</td>\n",
       "      <td>270</td>\n",
       "      <td>40.27</td>\n",
       "    </tr>\n",
       "    <tr>\n",
       "      <th>3</th>\n",
       "      <td>332.5</td>\n",
       "      <td>142.5</td>\n",
       "      <td>0.0</td>\n",
       "      <td>228.0</td>\n",
       "      <td>0.0</td>\n",
       "      <td>932.0</td>\n",
       "      <td>594.0</td>\n",
       "      <td>365</td>\n",
       "      <td>41.05</td>\n",
       "    </tr>\n",
       "    <tr>\n",
       "      <th>4</th>\n",
       "      <td>198.6</td>\n",
       "      <td>132.4</td>\n",
       "      <td>0.0</td>\n",
       "      <td>192.0</td>\n",
       "      <td>0.0</td>\n",
       "      <td>978.4</td>\n",
       "      <td>825.5</td>\n",
       "      <td>360</td>\n",
       "      <td>44.30</td>\n",
       "    </tr>\n",
       "  </tbody>\n",
       "</table>\n",
       "</div>"
      ],
      "text/plain": [
       "   Cement  Blast Furnace Slag  Fly Ash  Water  Superplasticizer  \\\n",
       "0   540.0                 0.0      0.0  162.0               2.5   \n",
       "1   540.0                 0.0      0.0  162.0               2.5   \n",
       "2   332.5               142.5      0.0  228.0               0.0   \n",
       "3   332.5               142.5      0.0  228.0               0.0   \n",
       "4   198.6               132.4      0.0  192.0               0.0   \n",
       "\n",
       "   Coarse Aggregate  Fine Aggregate  Age  Strength  \n",
       "0            1040.0           676.0   28     79.99  \n",
       "1            1055.0           676.0   28     61.89  \n",
       "2             932.0           594.0  270     40.27  \n",
       "3             932.0           594.0  365     41.05  \n",
       "4             978.4           825.5  360     44.30  "
      ]
     },
     "execution_count": 2,
     "metadata": {},
     "output_type": "execute_result"
    }
   ],
   "source": [
    "df=pd.read_csv('concrete_data.csv')\n",
    "df.head()"
   ]
  },
  {
   "cell_type": "code",
   "execution_count": 3,
   "id": "66db330b",
   "metadata": {},
   "outputs": [
    {
     "data": {
      "text/plain": [
       "Cement                0\n",
       "Blast Furnace Slag    0\n",
       "Fly Ash               0\n",
       "Water                 0\n",
       "Superplasticizer      0\n",
       "Coarse Aggregate      0\n",
       "Fine Aggregate        0\n",
       "Age                   0\n",
       "Strength              0\n",
       "dtype: int64"
      ]
     },
     "execution_count": 3,
     "metadata": {},
     "output_type": "execute_result"
    }
   ],
   "source": [
    "df.isnull().sum()"
   ]
  },
  {
   "cell_type": "code",
   "execution_count": 4,
   "id": "449073f5",
   "metadata": {},
   "outputs": [
    {
     "data": {
      "text/plain": [
       "Index(['Cement', 'Blast Furnace Slag', 'Fly Ash', 'Water', 'Superplasticizer',\n",
       "       'Coarse Aggregate', 'Fine Aggregate', 'Age', 'Strength'],\n",
       "      dtype='object')"
      ]
     },
     "execution_count": 4,
     "metadata": {},
     "output_type": "execute_result"
    }
   ],
   "source": [
    "df.columns"
   ]
  },
  {
   "cell_type": "code",
   "execution_count": 5,
   "id": "12a30c8d",
   "metadata": {},
   "outputs": [],
   "source": [
    "cols=df.columns"
   ]
  },
  {
   "cell_type": "code",
   "execution_count": 6,
   "id": "66ca0a3b",
   "metadata": {},
   "outputs": [],
   "source": [
    "X=df[cols[cols!='Strength']]\n",
    "y=df['Strength']"
   ]
  },
  {
   "cell_type": "code",
   "execution_count": 7,
   "id": "fdc6c072",
   "metadata": {},
   "outputs": [
    {
     "data": {
      "text/html": [
       "<div>\n",
       "<style scoped>\n",
       "    .dataframe tbody tr th:only-of-type {\n",
       "        vertical-align: middle;\n",
       "    }\n",
       "\n",
       "    .dataframe tbody tr th {\n",
       "        vertical-align: top;\n",
       "    }\n",
       "\n",
       "    .dataframe thead th {\n",
       "        text-align: right;\n",
       "    }\n",
       "</style>\n",
       "<table border=\"1\" class=\"dataframe\">\n",
       "  <thead>\n",
       "    <tr style=\"text-align: right;\">\n",
       "      <th></th>\n",
       "      <th>Cement</th>\n",
       "      <th>Blast Furnace Slag</th>\n",
       "      <th>Fly Ash</th>\n",
       "      <th>Water</th>\n",
       "      <th>Superplasticizer</th>\n",
       "      <th>Coarse Aggregate</th>\n",
       "      <th>Fine Aggregate</th>\n",
       "      <th>Age</th>\n",
       "    </tr>\n",
       "  </thead>\n",
       "  <tbody>\n",
       "    <tr>\n",
       "      <th>0</th>\n",
       "      <td>540.0</td>\n",
       "      <td>0.0</td>\n",
       "      <td>0.0</td>\n",
       "      <td>162.0</td>\n",
       "      <td>2.5</td>\n",
       "      <td>1040.0</td>\n",
       "      <td>676.0</td>\n",
       "      <td>28</td>\n",
       "    </tr>\n",
       "    <tr>\n",
       "      <th>1</th>\n",
       "      <td>540.0</td>\n",
       "      <td>0.0</td>\n",
       "      <td>0.0</td>\n",
       "      <td>162.0</td>\n",
       "      <td>2.5</td>\n",
       "      <td>1055.0</td>\n",
       "      <td>676.0</td>\n",
       "      <td>28</td>\n",
       "    </tr>\n",
       "    <tr>\n",
       "      <th>2</th>\n",
       "      <td>332.5</td>\n",
       "      <td>142.5</td>\n",
       "      <td>0.0</td>\n",
       "      <td>228.0</td>\n",
       "      <td>0.0</td>\n",
       "      <td>932.0</td>\n",
       "      <td>594.0</td>\n",
       "      <td>270</td>\n",
       "    </tr>\n",
       "    <tr>\n",
       "      <th>3</th>\n",
       "      <td>332.5</td>\n",
       "      <td>142.5</td>\n",
       "      <td>0.0</td>\n",
       "      <td>228.0</td>\n",
       "      <td>0.0</td>\n",
       "      <td>932.0</td>\n",
       "      <td>594.0</td>\n",
       "      <td>365</td>\n",
       "    </tr>\n",
       "    <tr>\n",
       "      <th>4</th>\n",
       "      <td>198.6</td>\n",
       "      <td>132.4</td>\n",
       "      <td>0.0</td>\n",
       "      <td>192.0</td>\n",
       "      <td>0.0</td>\n",
       "      <td>978.4</td>\n",
       "      <td>825.5</td>\n",
       "      <td>360</td>\n",
       "    </tr>\n",
       "  </tbody>\n",
       "</table>\n",
       "</div>"
      ],
      "text/plain": [
       "   Cement  Blast Furnace Slag  Fly Ash  Water  Superplasticizer  \\\n",
       "0   540.0                 0.0      0.0  162.0               2.5   \n",
       "1   540.0                 0.0      0.0  162.0               2.5   \n",
       "2   332.5               142.5      0.0  228.0               0.0   \n",
       "3   332.5               142.5      0.0  228.0               0.0   \n",
       "4   198.6               132.4      0.0  192.0               0.0   \n",
       "\n",
       "   Coarse Aggregate  Fine Aggregate  Age  \n",
       "0            1040.0           676.0   28  \n",
       "1            1055.0           676.0   28  \n",
       "2             932.0           594.0  270  \n",
       "3             932.0           594.0  365  \n",
       "4             978.4           825.5  360  "
      ]
     },
     "execution_count": 7,
     "metadata": {},
     "output_type": "execute_result"
    }
   ],
   "source": [
    "X.head()"
   ]
  },
  {
   "cell_type": "code",
   "execution_count": 8,
   "id": "0931e5ff",
   "metadata": {},
   "outputs": [
    {
     "data": {
      "text/plain": [
       "0    79.99\n",
       "1    61.89\n",
       "2    40.27\n",
       "3    41.05\n",
       "4    44.30\n",
       "Name: Strength, dtype: float64"
      ]
     },
     "execution_count": 8,
     "metadata": {},
     "output_type": "execute_result"
    }
   ],
   "source": [
    "y.head()"
   ]
  },
  {
   "cell_type": "code",
   "execution_count": 9,
   "id": "99fdd057",
   "metadata": {},
   "outputs": [],
   "source": [
    "n_cols = X.shape[1]"
   ]
  },
  {
   "cell_type": "code",
   "execution_count": 10,
   "id": "dd1a9d2d",
   "metadata": {},
   "outputs": [
    {
     "name": "stdout",
     "output_type": "stream",
     "text": [
      "Requirement already satisfied: tensorflow in ./anaconda3/lib/python3.11/site-packages (2.15.0)\n",
      "Requirement already satisfied: tensorflow-macos==2.15.0 in ./anaconda3/lib/python3.11/site-packages (from tensorflow) (2.15.0)\n",
      "Requirement already satisfied: absl-py>=1.0.0 in ./anaconda3/lib/python3.11/site-packages (from tensorflow-macos==2.15.0->tensorflow) (2.0.0)\n",
      "Requirement already satisfied: astunparse>=1.6.0 in ./anaconda3/lib/python3.11/site-packages (from tensorflow-macos==2.15.0->tensorflow) (1.6.3)\n",
      "Requirement already satisfied: flatbuffers>=23.5.26 in ./anaconda3/lib/python3.11/site-packages (from tensorflow-macos==2.15.0->tensorflow) (23.5.26)\n",
      "Requirement already satisfied: gast!=0.5.0,!=0.5.1,!=0.5.2,>=0.2.1 in ./anaconda3/lib/python3.11/site-packages (from tensorflow-macos==2.15.0->tensorflow) (0.5.4)\n",
      "Requirement already satisfied: google-pasta>=0.1.1 in ./anaconda3/lib/python3.11/site-packages (from tensorflow-macos==2.15.0->tensorflow) (0.2.0)\n",
      "Requirement already satisfied: h5py>=2.9.0 in ./anaconda3/lib/python3.11/site-packages (from tensorflow-macos==2.15.0->tensorflow) (3.7.0)\n",
      "Requirement already satisfied: libclang>=13.0.0 in ./anaconda3/lib/python3.11/site-packages (from tensorflow-macos==2.15.0->tensorflow) (16.0.6)\n",
      "Requirement already satisfied: ml-dtypes~=0.2.0 in ./anaconda3/lib/python3.11/site-packages (from tensorflow-macos==2.15.0->tensorflow) (0.2.0)\n",
      "Requirement already satisfied: numpy<2.0.0,>=1.23.5 in ./anaconda3/lib/python3.11/site-packages (from tensorflow-macos==2.15.0->tensorflow) (1.24.3)\n",
      "Requirement already satisfied: opt-einsum>=2.3.2 in ./anaconda3/lib/python3.11/site-packages (from tensorflow-macos==2.15.0->tensorflow) (3.3.0)\n",
      "Requirement already satisfied: packaging in ./anaconda3/lib/python3.11/site-packages (from tensorflow-macos==2.15.0->tensorflow) (23.0)\n",
      "Requirement already satisfied: protobuf!=4.21.0,!=4.21.1,!=4.21.2,!=4.21.3,!=4.21.4,!=4.21.5,<5.0.0dev,>=3.20.3 in ./anaconda3/lib/python3.11/site-packages (from tensorflow-macos==2.15.0->tensorflow) (4.23.4)\n",
      "Requirement already satisfied: setuptools in ./anaconda3/lib/python3.11/site-packages (from tensorflow-macos==2.15.0->tensorflow) (68.0.0)\n",
      "Requirement already satisfied: six>=1.12.0 in ./anaconda3/lib/python3.11/site-packages (from tensorflow-macos==2.15.0->tensorflow) (1.16.0)\n",
      "Requirement already satisfied: termcolor>=1.1.0 in ./anaconda3/lib/python3.11/site-packages (from tensorflow-macos==2.15.0->tensorflow) (2.4.0)\n",
      "Requirement already satisfied: typing-extensions>=3.6.6 in ./anaconda3/lib/python3.11/site-packages (from tensorflow-macos==2.15.0->tensorflow) (4.7.1)\n",
      "Requirement already satisfied: wrapt<1.15,>=1.11.0 in ./anaconda3/lib/python3.11/site-packages (from tensorflow-macos==2.15.0->tensorflow) (1.14.1)\n",
      "Requirement already satisfied: tensorflow-io-gcs-filesystem>=0.23.1 in ./anaconda3/lib/python3.11/site-packages (from tensorflow-macos==2.15.0->tensorflow) (0.34.0)\n",
      "Requirement already satisfied: grpcio<2.0,>=1.24.3 in ./anaconda3/lib/python3.11/site-packages (from tensorflow-macos==2.15.0->tensorflow) (1.60.0)\n",
      "Requirement already satisfied: tensorboard<2.16,>=2.15 in ./anaconda3/lib/python3.11/site-packages (from tensorflow-macos==2.15.0->tensorflow) (2.15.1)\n",
      "Requirement already satisfied: tensorflow-estimator<2.16,>=2.15.0 in ./anaconda3/lib/python3.11/site-packages (from tensorflow-macos==2.15.0->tensorflow) (2.15.0)\n",
      "Requirement already satisfied: keras<2.16,>=2.15.0 in ./anaconda3/lib/python3.11/site-packages (from tensorflow-macos==2.15.0->tensorflow) (2.15.0)\n",
      "Requirement already satisfied: wheel<1.0,>=0.23.0 in ./anaconda3/lib/python3.11/site-packages (from astunparse>=1.6.0->tensorflow-macos==2.15.0->tensorflow) (0.38.4)\n",
      "Requirement already satisfied: google-auth<3,>=1.6.3 in ./anaconda3/lib/python3.11/site-packages (from tensorboard<2.16,>=2.15->tensorflow-macos==2.15.0->tensorflow) (2.26.0)\n",
      "Requirement already satisfied: google-auth-oauthlib<2,>=0.5 in ./anaconda3/lib/python3.11/site-packages (from tensorboard<2.16,>=2.15->tensorflow-macos==2.15.0->tensorflow) (1.2.0)\n",
      "Requirement already satisfied: markdown>=2.6.8 in ./anaconda3/lib/python3.11/site-packages (from tensorboard<2.16,>=2.15->tensorflow-macos==2.15.0->tensorflow) (3.4.1)\n",
      "Requirement already satisfied: requests<3,>=2.21.0 in ./anaconda3/lib/python3.11/site-packages (from tensorboard<2.16,>=2.15->tensorflow-macos==2.15.0->tensorflow) (2.31.0)\n",
      "Requirement already satisfied: tensorboard-data-server<0.8.0,>=0.7.0 in ./anaconda3/lib/python3.11/site-packages (from tensorboard<2.16,>=2.15->tensorflow-macos==2.15.0->tensorflow) (0.7.2)\n",
      "Requirement already satisfied: werkzeug>=1.0.1 in ./anaconda3/lib/python3.11/site-packages (from tensorboard<2.16,>=2.15->tensorflow-macos==2.15.0->tensorflow) (2.2.3)\n",
      "Requirement already satisfied: cachetools<6.0,>=2.0.0 in ./anaconda3/lib/python3.11/site-packages (from google-auth<3,>=1.6.3->tensorboard<2.16,>=2.15->tensorflow-macos==2.15.0->tensorflow) (5.3.2)\n",
      "Requirement already satisfied: pyasn1-modules>=0.2.1 in ./anaconda3/lib/python3.11/site-packages (from google-auth<3,>=1.6.3->tensorboard<2.16,>=2.15->tensorflow-macos==2.15.0->tensorflow) (0.2.8)\n",
      "Requirement already satisfied: rsa<5,>=3.1.4 in ./anaconda3/lib/python3.11/site-packages (from google-auth<3,>=1.6.3->tensorboard<2.16,>=2.15->tensorflow-macos==2.15.0->tensorflow) (4.9)\n",
      "Requirement already satisfied: requests-oauthlib>=0.7.0 in ./anaconda3/lib/python3.11/site-packages (from google-auth-oauthlib<2,>=0.5->tensorboard<2.16,>=2.15->tensorflow-macos==2.15.0->tensorflow) (1.3.1)\n",
      "Requirement already satisfied: charset-normalizer<4,>=2 in ./anaconda3/lib/python3.11/site-packages (from requests<3,>=2.21.0->tensorboard<2.16,>=2.15->tensorflow-macos==2.15.0->tensorflow) (2.0.4)\n",
      "Requirement already satisfied: idna<4,>=2.5 in ./anaconda3/lib/python3.11/site-packages (from requests<3,>=2.21.0->tensorboard<2.16,>=2.15->tensorflow-macos==2.15.0->tensorflow) (3.4)\n",
      "Requirement already satisfied: urllib3<3,>=1.21.1 in ./anaconda3/lib/python3.11/site-packages (from requests<3,>=2.21.0->tensorboard<2.16,>=2.15->tensorflow-macos==2.15.0->tensorflow) (1.26.16)\n",
      "Requirement already satisfied: certifi>=2017.4.17 in ./anaconda3/lib/python3.11/site-packages (from requests<3,>=2.21.0->tensorboard<2.16,>=2.15->tensorflow-macos==2.15.0->tensorflow) (2023.11.17)\n",
      "Requirement already satisfied: MarkupSafe>=2.1.1 in ./anaconda3/lib/python3.11/site-packages (from werkzeug>=1.0.1->tensorboard<2.16,>=2.15->tensorflow-macos==2.15.0->tensorflow) (2.1.1)\n",
      "Requirement already satisfied: pyasn1<0.5.0,>=0.4.6 in ./anaconda3/lib/python3.11/site-packages (from pyasn1-modules>=0.2.1->google-auth<3,>=1.6.3->tensorboard<2.16,>=2.15->tensorflow-macos==2.15.0->tensorflow) (0.4.8)\n",
      "Requirement already satisfied: oauthlib>=3.0.0 in ./anaconda3/lib/python3.11/site-packages (from requests-oauthlib>=0.7.0->google-auth-oauthlib<2,>=0.5->tensorboard<2.16,>=2.15->tensorflow-macos==2.15.0->tensorflow) (3.2.2)\n",
      "Requirement already satisfied: keras in ./anaconda3/lib/python3.11/site-packages (2.15.0)\n"
     ]
    }
   ],
   "source": [
    "import warnings\n",
    "warnings.filterwarnings('ignore')\n",
    "!pip install tensorflow\n",
    "!pip install keras\n",
    "import keras"
   ]
  },
  {
   "cell_type": "code",
   "execution_count": 11,
   "id": "7d8d1ff7",
   "metadata": {},
   "outputs": [],
   "source": [
    "from keras.models import Sequential\n",
    "from keras.layers import Dense"
   ]
  },
  {
   "cell_type": "code",
   "execution_count": 12,
   "id": "30645d78",
   "metadata": {},
   "outputs": [],
   "source": [
    "from sklearn.model_selection import train_test_split\n",
    "from sklearn.metrics import mean_squared_error"
   ]
  },
  {
   "cell_type": "markdown",
   "id": "31b860c4",
   "metadata": {},
   "source": [
    "## Modeling with original data"
   ]
  },
  {
   "cell_type": "code",
   "execution_count": 13,
   "id": "42526041",
   "metadata": {},
   "outputs": [],
   "source": [
    "mse_scores_orig = []"
   ]
  },
  {
   "cell_type": "code",
   "execution_count": 14,
   "id": "0380f939",
   "metadata": {
    "scrolled": true
   },
   "outputs": [
    {
     "name": "stdout",
     "output_type": "stream",
     "text": [
      "10/10 [==============================] - 0s 357us/step\n",
      "10/10 [==============================] - 0s 353us/step\n",
      "10/10 [==============================] - 0s 353us/step\n",
      "10/10 [==============================] - 0s 341us/step\n",
      "10/10 [==============================] - 0s 343us/step\n",
      "10/10 [==============================] - 0s 337us/step\n",
      "10/10 [==============================] - 0s 346us/step\n",
      "10/10 [==============================] - 0s 359us/step\n",
      "10/10 [==============================] - 0s 340us/step\n",
      "10/10 [==============================] - 0s 350us/step\n",
      "10/10 [==============================] - 0s 363us/step\n",
      "10/10 [==============================] - 0s 346us/step\n",
      "10/10 [==============================] - 0s 346us/step\n",
      "10/10 [==============================] - 0s 342us/step\n",
      "10/10 [==============================] - 0s 339us/step\n",
      "10/10 [==============================] - 0s 370us/step\n",
      "10/10 [==============================] - 0s 351us/step\n",
      "10/10 [==============================] - 0s 343us/step\n",
      "10/10 [==============================] - 0s 335us/step\n",
      "10/10 [==============================] - 0s 343us/step\n",
      "10/10 [==============================] - 0s 350us/step\n",
      "10/10 [==============================] - 0s 330us/step\n",
      "10/10 [==============================] - 0s 336us/step\n",
      "10/10 [==============================] - 0s 336us/step\n",
      "10/10 [==============================] - 0s 347us/step\n",
      "10/10 [==============================] - 0s 342us/step\n",
      "10/10 [==============================] - 0s 349us/step\n",
      "10/10 [==============================] - 0s 374us/step\n",
      "10/10 [==============================] - 0s 341us/step\n",
      "10/10 [==============================] - 0s 347us/step\n",
      "10/10 [==============================] - 0s 350us/step\n",
      "10/10 [==============================] - 0s 336us/step\n",
      "10/10 [==============================] - 0s 355us/step\n",
      "10/10 [==============================] - 0s 357us/step\n",
      "10/10 [==============================] - 0s 346us/step\n",
      "10/10 [==============================] - 0s 349us/step\n",
      "10/10 [==============================] - 0s 358us/step\n",
      "10/10 [==============================] - 0s 347us/step\n",
      "10/10 [==============================] - 0s 341us/step\n",
      "10/10 [==============================] - 0s 342us/step\n",
      "10/10 [==============================] - 0s 343us/step\n",
      "10/10 [==============================] - 0s 352us/step\n",
      "10/10 [==============================] - 0s 347us/step\n",
      "10/10 [==============================] - 0s 353us/step\n",
      "10/10 [==============================] - 0s 340us/step\n",
      "10/10 [==============================] - 0s 342us/step\n",
      "10/10 [==============================] - 0s 324us/step\n",
      "10/10 [==============================] - 0s 342us/step\n",
      "10/10 [==============================] - 0s 376us/step\n",
      "10/10 [==============================] - 0s 410us/step\n"
     ]
    }
   ],
   "source": [
    "for i in range(50):\n",
    "    # Splitting the data\n",
    "    X_train, X_test, y_train, y_test = train_test_split(X,y, test_size=0.30,random_state=0)\n",
    "\n",
    "    # Building the model\n",
    "    model = Sequential([\n",
    "        Dense(10, activation='relu', input_shape=(X_train.shape[1],)),\n",
    "        Dense(1)\n",
    "    ])\n",
    "# Compiling the model\n",
    "    model.compile(optimizer='adam', loss='mean_squared_error')\n",
    "\n",
    "    # Training the model\n",
    "    model.fit(X_train, y_train, epochs=50, verbose=0)\n",
    "\n",
    "    # Evaluating the model\n",
    "    y_pred = model.predict(X_test)\n",
    "    mse = mean_squared_error(y_test, y_pred)\n",
    "    mse_scores_orig.append(mse)"
   ]
  },
  {
   "cell_type": "code",
   "execution_count": 15,
   "id": "19965208",
   "metadata": {},
   "outputs": [],
   "source": [
    "mean_mse_orig = np.mean(mse_scores_orig)\n",
    "std_mse_orig = np.std(mse_scores_orig)"
   ]
  },
  {
   "cell_type": "code",
   "execution_count": 16,
   "id": "688b5845",
   "metadata": {},
   "outputs": [
    {
     "name": "stdout",
     "output_type": "stream",
     "text": [
      "Mean of MSEs for original version: 338.30025577694977\n",
      "Standard Deviation of MSEsfor original version: 477.97941733636316\n"
     ]
    }
   ],
   "source": [
    "print(\"Mean of MSEs for original version:\", mean_mse_orig)\n",
    "print(\"Standard Deviation of MSEsfor original version:\", std_mse_orig)\n"
   ]
  },
  {
   "cell_type": "markdown",
   "id": "ff619c0c",
   "metadata": {},
   "source": [
    "## Modeling with normalized data"
   ]
  },
  {
   "cell_type": "code",
   "execution_count": 17,
   "id": "7a189a44",
   "metadata": {},
   "outputs": [
    {
     "data": {
      "text/html": [
       "<div>\n",
       "<style scoped>\n",
       "    .dataframe tbody tr th:only-of-type {\n",
       "        vertical-align: middle;\n",
       "    }\n",
       "\n",
       "    .dataframe tbody tr th {\n",
       "        vertical-align: top;\n",
       "    }\n",
       "\n",
       "    .dataframe thead th {\n",
       "        text-align: right;\n",
       "    }\n",
       "</style>\n",
       "<table border=\"1\" class=\"dataframe\">\n",
       "  <thead>\n",
       "    <tr style=\"text-align: right;\">\n",
       "      <th></th>\n",
       "      <th>Cement</th>\n",
       "      <th>Blast Furnace Slag</th>\n",
       "      <th>Fly Ash</th>\n",
       "      <th>Water</th>\n",
       "      <th>Superplasticizer</th>\n",
       "      <th>Coarse Aggregate</th>\n",
       "      <th>Fine Aggregate</th>\n",
       "      <th>Age</th>\n",
       "    </tr>\n",
       "  </thead>\n",
       "  <tbody>\n",
       "    <tr>\n",
       "      <th>0</th>\n",
       "      <td>2.476712</td>\n",
       "      <td>-0.856472</td>\n",
       "      <td>-0.846733</td>\n",
       "      <td>-0.916319</td>\n",
       "      <td>-0.620147</td>\n",
       "      <td>0.862735</td>\n",
       "      <td>-1.217079</td>\n",
       "      <td>-0.279597</td>\n",
       "    </tr>\n",
       "    <tr>\n",
       "      <th>1</th>\n",
       "      <td>2.476712</td>\n",
       "      <td>-0.856472</td>\n",
       "      <td>-0.846733</td>\n",
       "      <td>-0.916319</td>\n",
       "      <td>-0.620147</td>\n",
       "      <td>1.055651</td>\n",
       "      <td>-1.217079</td>\n",
       "      <td>-0.279597</td>\n",
       "    </tr>\n",
       "    <tr>\n",
       "      <th>2</th>\n",
       "      <td>0.491187</td>\n",
       "      <td>0.795140</td>\n",
       "      <td>-0.846733</td>\n",
       "      <td>2.174405</td>\n",
       "      <td>-1.038638</td>\n",
       "      <td>-0.526262</td>\n",
       "      <td>-2.239829</td>\n",
       "      <td>3.551340</td>\n",
       "    </tr>\n",
       "    <tr>\n",
       "      <th>3</th>\n",
       "      <td>0.491187</td>\n",
       "      <td>0.795140</td>\n",
       "      <td>-0.846733</td>\n",
       "      <td>2.174405</td>\n",
       "      <td>-1.038638</td>\n",
       "      <td>-0.526262</td>\n",
       "      <td>-2.239829</td>\n",
       "      <td>5.055221</td>\n",
       "    </tr>\n",
       "    <tr>\n",
       "      <th>4</th>\n",
       "      <td>-0.790075</td>\n",
       "      <td>0.678079</td>\n",
       "      <td>-0.846733</td>\n",
       "      <td>0.488555</td>\n",
       "      <td>-1.038638</td>\n",
       "      <td>0.070492</td>\n",
       "      <td>0.647569</td>\n",
       "      <td>4.976069</td>\n",
       "    </tr>\n",
       "  </tbody>\n",
       "</table>\n",
       "</div>"
      ],
      "text/plain": [
       "     Cement  Blast Furnace Slag   Fly Ash     Water  Superplasticizer  \\\n",
       "0  2.476712           -0.856472 -0.846733 -0.916319         -0.620147   \n",
       "1  2.476712           -0.856472 -0.846733 -0.916319         -0.620147   \n",
       "2  0.491187            0.795140 -0.846733  2.174405         -1.038638   \n",
       "3  0.491187            0.795140 -0.846733  2.174405         -1.038638   \n",
       "4 -0.790075            0.678079 -0.846733  0.488555         -1.038638   \n",
       "\n",
       "   Coarse Aggregate  Fine Aggregate       Age  \n",
       "0          0.862735       -1.217079 -0.279597  \n",
       "1          1.055651       -1.217079 -0.279597  \n",
       "2         -0.526262       -2.239829  3.551340  \n",
       "3         -0.526262       -2.239829  5.055221  \n",
       "4          0.070492        0.647569  4.976069  "
      ]
     },
     "execution_count": 17,
     "metadata": {},
     "output_type": "execute_result"
    }
   ],
   "source": [
    "X_norm = (X - X.mean()) / X.std()\n",
    "X_norm.head()"
   ]
  },
  {
   "cell_type": "code",
   "execution_count": 18,
   "id": "00e41ccb",
   "metadata": {},
   "outputs": [],
   "source": [
    "mse_scores_norm = []"
   ]
  },
  {
   "cell_type": "code",
   "execution_count": 19,
   "id": "d0b26684",
   "metadata": {},
   "outputs": [
    {
     "name": "stdout",
     "output_type": "stream",
     "text": [
      "10/10 [==============================] - 0s 347us/step\n",
      "10/10 [==============================] - 0s 352us/step\n",
      "10/10 [==============================] - 0s 344us/step\n",
      "10/10 [==============================] - 0s 359us/step\n",
      "10/10 [==============================] - 0s 348us/step\n",
      "10/10 [==============================] - 0s 355us/step\n",
      "10/10 [==============================] - 0s 350us/step\n",
      "10/10 [==============================] - 0s 361us/step\n",
      "10/10 [==============================] - 0s 357us/step\n",
      "10/10 [==============================] - 0s 320us/step\n",
      "10/10 [==============================] - 0s 346us/step\n",
      "10/10 [==============================] - 0s 348us/step\n",
      "10/10 [==============================] - 0s 359us/step\n",
      "10/10 [==============================] - 0s 347us/step\n",
      "10/10 [==============================] - 0s 356us/step\n",
      "10/10 [==============================] - 0s 359us/step\n",
      "10/10 [==============================] - 0s 360us/step\n",
      "10/10 [==============================] - 0s 350us/step\n",
      "10/10 [==============================] - 0s 343us/step\n",
      "10/10 [==============================] - 0s 350us/step\n",
      "10/10 [==============================] - 0s 346us/step\n",
      "10/10 [==============================] - 0s 358us/step\n",
      "10/10 [==============================] - 0s 354us/step\n",
      "10/10 [==============================] - 0s 383us/step\n",
      "10/10 [==============================] - 0s 345us/step\n",
      "10/10 [==============================] - 0s 343us/step\n",
      "10/10 [==============================] - 0s 341us/step\n",
      "10/10 [==============================] - 0s 348us/step\n",
      "10/10 [==============================] - 0s 343us/step\n",
      "10/10 [==============================] - 0s 342us/step\n",
      "10/10 [==============================] - 0s 340us/step\n",
      "10/10 [==============================] - 0s 349us/step\n",
      "10/10 [==============================] - 0s 351us/step\n",
      "10/10 [==============================] - 0s 335us/step\n",
      "10/10 [==============================] - 0s 350us/step\n",
      "10/10 [==============================] - 0s 345us/step\n",
      "10/10 [==============================] - 0s 354us/step\n",
      "10/10 [==============================] - 0s 344us/step\n",
      "10/10 [==============================] - 0s 331us/step\n",
      "10/10 [==============================] - 0s 341us/step\n",
      "10/10 [==============================] - 0s 335us/step\n",
      "10/10 [==============================] - 0s 358us/step\n",
      "10/10 [==============================] - 0s 331us/step\n",
      "10/10 [==============================] - 0s 348us/step\n",
      "10/10 [==============================] - 0s 331us/step\n",
      "10/10 [==============================] - 0s 328us/step\n",
      "10/10 [==============================] - 0s 352us/step\n",
      "10/10 [==============================] - 0s 364us/step\n",
      "10/10 [==============================] - 0s 352us/step\n",
      "10/10 [==============================] - 0s 336us/step\n"
     ]
    }
   ],
   "source": [
    "for i in range(50):\n",
    "    # Splitting the data\n",
    "    X_norm_train, X_norm_test, y_train, y_test = train_test_split(X_norm,y, test_size=0.30,random_state=0)\n",
    "\n",
    "    # Building the model\n",
    "    model = Sequential([\n",
    "        Dense(10, activation='relu', input_shape=(X_norm_train.shape[1],)),\n",
    "        Dense(1)\n",
    "    ])\n",
    "# Compiling the model\n",
    "    model.compile(optimizer='adam', loss='mean_squared_error')\n",
    "\n",
    "    # Training the model\n",
    "    model.fit(X_norm_train, y_train, epochs=50, verbose=0)\n",
    "\n",
    "    # Evaluating the model\n",
    "    y_pred = model.predict(X_norm_test)\n",
    "    mse = mean_squared_error(y_test, y_pred)\n",
    "    mse_scores_norm.append(mse)"
   ]
  },
  {
   "cell_type": "code",
   "execution_count": 20,
   "id": "b61c00ad",
   "metadata": {},
   "outputs": [],
   "source": [
    "mean_mse_norm = np.mean(mse_scores_norm)\n",
    "std_mse_norm = np.std(mse_scores_norm)"
   ]
  },
  {
   "cell_type": "code",
   "execution_count": 21,
   "id": "3e2038fd",
   "metadata": {},
   "outputs": [
    {
     "name": "stdout",
     "output_type": "stream",
     "text": [
      "Mean of MSEs for normilized version: 350.0369015913187\n",
      "Standard Deviation of MSEsfor normilized version: 88.80934998750789\n"
     ]
    }
   ],
   "source": [
    "print(\"Mean of MSEs for normilized version:\", mean_mse_norm)\n",
    "print(\"Standard Deviation of MSEsfor normilized version:\", std_mse_norm)"
   ]
  },
  {
   "cell_type": "markdown",
   "id": "e15f2cc0",
   "metadata": {},
   "source": [
    "## Modeling with normalized data with 100 epochs"
   ]
  },
  {
   "cell_type": "code",
   "execution_count": 22,
   "id": "1f04e65b",
   "metadata": {},
   "outputs": [],
   "source": [
    "mse_scores_norm_1 = []"
   ]
  },
  {
   "cell_type": "code",
   "execution_count": 23,
   "id": "3675c0fb",
   "metadata": {},
   "outputs": [
    {
     "name": "stdout",
     "output_type": "stream",
     "text": [
      "10/10 [==============================] - 0s 348us/step\n",
      "10/10 [==============================] - 0s 353us/step\n",
      "10/10 [==============================] - 0s 335us/step\n",
      "10/10 [==============================] - 0s 343us/step\n",
      "10/10 [==============================] - 0s 339us/step\n",
      "10/10 [==============================] - 0s 342us/step\n",
      "10/10 [==============================] - 0s 362us/step\n",
      "10/10 [==============================] - 0s 352us/step\n",
      "10/10 [==============================] - 0s 351us/step\n",
      "10/10 [==============================] - 0s 348us/step\n",
      "10/10 [==============================] - 0s 353us/step\n",
      "10/10 [==============================] - 0s 358us/step\n",
      "10/10 [==============================] - 0s 353us/step\n",
      "10/10 [==============================] - 0s 333us/step\n",
      "10/10 [==============================] - 0s 353us/step\n",
      "10/10 [==============================] - 0s 353us/step\n",
      "10/10 [==============================] - 0s 350us/step\n",
      "10/10 [==============================] - 0s 359us/step\n",
      "10/10 [==============================] - 0s 356us/step\n",
      "10/10 [==============================] - 0s 339us/step\n",
      "10/10 [==============================] - 0s 341us/step\n",
      "10/10 [==============================] - 0s 343us/step\n",
      "10/10 [==============================] - 0s 340us/step\n",
      "10/10 [==============================] - 0s 347us/step\n",
      "10/10 [==============================] - 0s 346us/step\n",
      "10/10 [==============================] - 0s 335us/step\n",
      "10/10 [==============================] - 0s 342us/step\n",
      "10/10 [==============================] - 0s 344us/step\n",
      "10/10 [==============================] - 0s 356us/step\n",
      "10/10 [==============================] - 0s 354us/step\n",
      "10/10 [==============================] - 0s 329us/step\n",
      "10/10 [==============================] - 0s 358us/step\n",
      "10/10 [==============================] - 0s 337us/step\n",
      "10/10 [==============================] - 0s 334us/step\n",
      "10/10 [==============================] - 0s 351us/step\n",
      "10/10 [==============================] - 0s 357us/step\n",
      "10/10 [==============================] - 0s 356us/step\n",
      "10/10 [==============================] - 0s 340us/step\n",
      "10/10 [==============================] - 0s 351us/step\n",
      "10/10 [==============================] - 0s 347us/step\n",
      "10/10 [==============================] - 0s 350us/step\n",
      "10/10 [==============================] - 0s 356us/step\n",
      "10/10 [==============================] - 0s 357us/step\n",
      "10/10 [==============================] - 0s 344us/step\n",
      "10/10 [==============================] - 0s 348us/step\n",
      "10/10 [==============================] - 0s 342us/step\n",
      "10/10 [==============================] - 0s 346us/step\n",
      "10/10 [==============================] - 0s 352us/step\n",
      "10/10 [==============================] - 0s 365us/step\n",
      "10/10 [==============================] - 0s 344us/step\n"
     ]
    }
   ],
   "source": [
    "for i in range(50):\n",
    "    # Splitting the data\n",
    "    X_norm_train, X_norm_test, y_train, y_test = train_test_split(X_norm,y, test_size=0.30,random_state=0)\n",
    "\n",
    "    # Building the model\n",
    "    model = Sequential([\n",
    "        Dense(10, activation='relu', input_shape=(X_norm_train.shape[1],)),\n",
    "        Dense(1)\n",
    "    ])\n",
    "# Compiling the model\n",
    "    model.compile(optimizer='adam', loss='mean_squared_error')\n",
    "\n",
    "    # Training the model\n",
    "    model.fit(X_norm_train, y_train, epochs=100, verbose=0)\n",
    "\n",
    "    # Evaluating the model\n",
    "    y_pred = model.predict(X_norm_test)\n",
    "    mse = mean_squared_error(y_test, y_pred)\n",
    "    mse_scores_norm.append(mse)"
   ]
  },
  {
   "cell_type": "code",
   "execution_count": 24,
   "id": "128b6047",
   "metadata": {},
   "outputs": [],
   "source": [
    "mean_mse_norm_1 = np.mean(mse_scores_norm_1)\n",
    "std_mse_norm_1 = np.std(mse_scores_norm_1)"
   ]
  },
  {
   "cell_type": "code",
   "execution_count": 25,
   "id": "75378aa2",
   "metadata": {},
   "outputs": [
    {
     "name": "stdout",
     "output_type": "stream",
     "text": [
      "Mean of MSEs for normilized version with 100 epochs: nan\n",
      "Standard Deviation of MSEsfor normilized version with 100 epochs: nan\n"
     ]
    }
   ],
   "source": [
    "print(\"Mean of MSEs for normilized version with 100 epochs:\", mean_mse_norm_1)\n",
    "print(\"Standard Deviation of MSEsfor normilized version with 100 epochs:\", std_mse_norm_1)"
   ]
  },
  {
   "cell_type": "markdown",
   "id": "f93732c7",
   "metadata": {},
   "source": [
    "## Modeling with normalized data with 3 hidden layers"
   ]
  },
  {
   "cell_type": "code",
   "execution_count": 26,
   "id": "018a31b3",
   "metadata": {},
   "outputs": [],
   "source": [
    "mse_scores_norm_2 = []"
   ]
  },
  {
   "cell_type": "code",
   "execution_count": 27,
   "id": "c022a2b4",
   "metadata": {},
   "outputs": [
    {
     "name": "stdout",
     "output_type": "stream",
     "text": [
      "10/10 [==============================] - 0s 359us/step\n",
      "10/10 [==============================] - 0s 361us/step\n",
      "10/10 [==============================] - 0s 354us/step\n",
      "10/10 [==============================] - 0s 354us/step\n",
      "10/10 [==============================] - 0s 371us/step\n",
      "10/10 [==============================] - 0s 347us/step\n",
      "10/10 [==============================] - 0s 358us/step\n",
      "10/10 [==============================] - 0s 361us/step\n",
      "10/10 [==============================] - 0s 348us/step\n",
      "10/10 [==============================] - 0s 357us/step\n",
      "10/10 [==============================] - 0s 352us/step\n",
      "10/10 [==============================] - 0s 361us/step\n",
      "10/10 [==============================] - 0s 400us/step\n",
      "10/10 [==============================] - 0s 363us/step\n",
      "10/10 [==============================] - 0s 364us/step\n",
      "10/10 [==============================] - 0s 354us/step\n",
      "10/10 [==============================] - 0s 367us/step\n",
      "10/10 [==============================] - 0s 364us/step\n",
      "10/10 [==============================] - 0s 351us/step\n",
      "10/10 [==============================] - 0s 382us/step\n",
      "10/10 [==============================] - 0s 362us/step\n",
      "10/10 [==============================] - 0s 357us/step\n",
      "10/10 [==============================] - 0s 355us/step\n",
      "10/10 [==============================] - 0s 372us/step\n",
      "10/10 [==============================] - 0s 366us/step\n",
      "10/10 [==============================] - 0s 365us/step\n",
      "10/10 [==============================] - 0s 347us/step\n",
      "10/10 [==============================] - 0s 352us/step\n",
      "10/10 [==============================] - 0s 357us/step\n",
      "10/10 [==============================] - 0s 363us/step\n",
      "10/10 [==============================] - 0s 369us/step\n",
      "10/10 [==============================] - 0s 368us/step\n",
      "10/10 [==============================] - 0s 366us/step\n",
      "10/10 [==============================] - 0s 356us/step\n",
      "10/10 [==============================] - 0s 353us/step\n",
      "10/10 [==============================] - 0s 340us/step\n",
      "10/10 [==============================] - 0s 354us/step\n",
      "10/10 [==============================] - 0s 355us/step\n",
      "10/10 [==============================] - 0s 354us/step\n",
      "10/10 [==============================] - 0s 372us/step\n",
      "10/10 [==============================] - 0s 376us/step\n",
      "10/10 [==============================] - 0s 350us/step\n",
      "10/10 [==============================] - 0s 365us/step\n",
      "10/10 [==============================] - 0s 351us/step\n",
      "10/10 [==============================] - 0s 355us/step\n",
      "10/10 [==============================] - 0s 359us/step\n",
      "10/10 [==============================] - 0s 361us/step\n",
      "10/10 [==============================] - 0s 361us/step\n",
      "10/10 [==============================] - 0s 367us/step\n",
      "10/10 [==============================] - 0s 375us/step\n"
     ]
    }
   ],
   "source": [
    "for i in range(50):\n",
    "    # Splitting the data\n",
    "    X_norm_train, X_norm_test, y_train, y_test = train_test_split(X_norm,y, test_size=0.30,random_state=0)\n",
    "\n",
    "    # Building the model\n",
    "    model = Sequential([\n",
    "        Dense(10, activation='relu', input_shape=(X_norm_train.shape[1],)),\n",
    "        Dense(10, activation='relu', input_shape=(X_norm_train.shape[1],)),\n",
    "        Dense(10, activation='relu', input_shape=(X_norm_train.shape[1],)),\n",
    "        Dense(1)\n",
    "    ])\n",
    "# Compiling the model\n",
    "    model.compile(optimizer='adam', loss='mean_squared_error')\n",
    "\n",
    "    # Training the model\n",
    "    model.fit(X_norm_train, y_train, epochs=50, verbose=0)\n",
    "\n",
    "    # Evaluating the model\n",
    "    y_pred = model.predict(X_norm_test)\n",
    "    mse = mean_squared_error(y_test, y_pred)\n",
    "    mse_scores_norm_2.append(mse)"
   ]
  },
  {
   "cell_type": "code",
   "execution_count": 28,
   "id": "a17de4fc",
   "metadata": {},
   "outputs": [],
   "source": [
    "mean_mse_norm_2 = np.mean(mse_scores_norm_2)\n",
    "std_mse_norm_2 = np.std(mse_scores_norm_2)"
   ]
  },
  {
   "cell_type": "code",
   "execution_count": 29,
   "id": "b324e0c7",
   "metadata": {},
   "outputs": [
    {
     "name": "stdout",
     "output_type": "stream",
     "text": [
      "Mean of MSEs for normilized version 3 hidden layers: 115.86485981121896\n",
      "Standard Deviation of MSEsfor normilized version with 3 hidden layers: 13.367326328468424\n"
     ]
    }
   ],
   "source": [
    "print(\"Mean of MSEs for normilized version 3 hidden layers:\", mean_mse_norm_2)\n",
    "print(\"Standard Deviation of MSEsfor normilized version with 3 hidden layers:\", std_mse_norm_2)"
   ]
  },
  {
   "cell_type": "markdown",
   "id": "8a9b9ff5",
   "metadata": {},
   "source": [
    "## Comparision"
   ]
  },
  {
   "cell_type": "code",
   "execution_count": 30,
   "id": "b2e72f8c",
   "metadata": {},
   "outputs": [
    {
     "name": "stdout",
     "output_type": "stream",
     "text": [
      "Mean of MSEs for original version: 338.30025577694977\n",
      "Standard Deviation of MSEsfor original version: 477.97941733636316\n",
      "Mean of MSEs for normilized version: 350.0369015913187\n",
      "Standard Deviation of MSEsfor normilized version: 88.80934998750789\n",
      "Mean of MSEs for normilized version with 100 epochs: nan\n",
      "Standard Deviation of MSEsfor normilized version with 100 epochs: nan\n",
      "Mean of MSEs for normilized version 3 hidden layers: 115.86485981121896\n",
      "Standard Deviation of MSEsfor normilized version with 3 hidden layers: 13.367326328468424\n"
     ]
    }
   ],
   "source": [
    "print(\"Mean of MSEs for original version:\", mean_mse_orig)\n",
    "print(\"Standard Deviation of MSEsfor original version:\", std_mse_orig)\n",
    "print(\"Mean of MSEs for normilized version:\", mean_mse_norm)\n",
    "print(\"Standard Deviation of MSEsfor normilized version:\", std_mse_norm)\n",
    "print(\"Mean of MSEs for normilized version with 100 epochs:\", mean_mse_norm_1)\n",
    "print(\"Standard Deviation of MSEsfor normilized version with 100 epochs:\", std_mse_norm_1)\n",
    "print(\"Mean of MSEs for normilized version 3 hidden layers:\", mean_mse_norm_2)\n",
    "print(\"Standard Deviation of MSEsfor normilized version with 3 hidden layers:\", std_mse_norm_2)"
   ]
  },
  {
   "cell_type": "code",
   "execution_count": null,
   "id": "43c30e03",
   "metadata": {},
   "outputs": [],
   "source": []
  }
 ],
 "metadata": {
  "kernelspec": {
   "display_name": "Python 3 (ipykernel)",
   "language": "python",
   "name": "python3"
  },
  "language_info": {
   "codemirror_mode": {
    "name": "ipython",
    "version": 3
   },
   "file_extension": ".py",
   "mimetype": "text/x-python",
   "name": "python",
   "nbconvert_exporter": "python",
   "pygments_lexer": "ipython3",
   "version": "3.11.4"
  }
 },
 "nbformat": 4,
 "nbformat_minor": 5
}
